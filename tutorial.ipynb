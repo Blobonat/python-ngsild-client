{
 "cells": [
  {
   "cell_type": "code",
   "execution_count": null,
   "metadata": {},
   "outputs": [],
   "source": [
    "from ngsildclient import Client"
   ]
  },
  {
   "cell_type": "code",
   "execution_count": null,
   "metadata": {},
   "outputs": [],
   "source": [
    "import networkx as nx\n",
    "import matplotlib.pyplot as plt\n",
    "G = nx.DiGraph()\n",
    "G.add_node(\"toto\")\n",
    "G.add_node(\"nimp\")\n",
    "G.add_edge(\"toto\", \"nimp\")"
   ]
  },
  {
   "cell_type": "code",
   "execution_count": null,
   "metadata": {},
   "outputs": [],
   "source": [
    "plt.tight_layout()\n",
    "plt.axis(\"off\")\n",
    "nx.draw_networkx(G, node_color=\"tab:blue\", font_color=\"whitesmoke\")"
   ]
  },
  {
   "cell_type": "code",
   "execution_count": null,
   "metadata": {},
   "outputs": [],
   "source": [
    "import d3graph"
   ]
  },
  {
   "cell_type": "code",
   "execution_count": null,
   "metadata": {},
   "outputs": [],
   "source": [
    "d3graph.d3graph.edges2G(G)"
   ]
  },
  {
   "cell_type": "code",
   "execution_count": null,
   "metadata": {},
   "outputs": [],
   "source": [
    "adjmat = G.adjacency()"
   ]
  },
  {
   "cell_type": "code",
   "execution_count": null,
   "metadata": {},
   "outputs": [],
   "source": [
    "adjmat"
   ]
  },
  {
   "cell_type": "code",
   "execution_count": null,
   "metadata": {},
   "outputs": [],
   "source": [
    "from d3graph import d3graph"
   ]
  },
  {
   "cell_type": "code",
   "execution_count": null,
   "metadata": {},
   "outputs": [],
   "source": [
    "d3 = d3graph()"
   ]
  },
  {
   "cell_type": "code",
   "execution_count": null,
   "metadata": {},
   "outputs": [],
   "source": [
    "d3.graph(adjmat)"
   ]
  },
  {
   "cell_type": "code",
   "execution_count": null,
   "metadata": {},
   "outputs": [],
   "source": [
    "from d3graph import d3graph, vec2adjmat\n",
    "\n",
    "# Create example network\n",
    "source = ['node A','node F','node B','node B','node B','node A','node C','node Z']\n",
    "target = ['node F','node B','node J','node F','node F','node M','node M','node A']\n",
    "weight = [5.56, 0.5, 0.64, 0.23, 0.9, 3.28, 0.5, 0.45]\n",
    "# Convert to adjacency matrix\n",
    "adjmat = vec2adjmat(source, target, weight=weight)\n",
    "\n",
    "# Initialize\n",
    "d3 = d3graph()\n",
    "# Proces adjmat\n",
    "d3.graph(adjmat)\n",
    "# Plot\n",
    "d3.show()\n"
   ]
  },
  {
   "cell_type": "code",
   "execution_count": null,
   "metadata": {},
   "outputs": [],
   "source": [
    "from ngsildclient import Client\n",
    "client = Client(port=8026, port_temporal=8027)\n",
    "root = client.get(\"A:A1\")"
   ]
  },
  {
   "cell_type": "code",
   "execution_count": null,
   "metadata": {},
   "outputs": [],
   "source": [
    "from ngsildclient import Entity\n",
    "a1 = Entity(\"A\", \"A1\")\n",
    "b1 = Entity(\"B\", \"B1\")\n",
    "c1 = Entity(\"C\", \"C1\")\n",
    "d1 = Entity(\"D\", \"D1\")\n",
    "d2 = Entity(\"D\", \"D2\")\n",
    "a1.rel(\"hasB\", b1)\n",
    "a1.rel(\"hasD\", [d1, d2])\n",
    "b1.rel(\"hasC\", c1)\n",
    "c1.rel(\"hasA\", a1) "
   ]
  },
  {
   "cell_type": "code",
   "execution_count": null,
   "metadata": {},
   "outputs": [],
   "source": [
    "client = Client(port=8026)"
   ]
  },
  {
   "cell_type": "code",
   "execution_count": null,
   "metadata": {},
   "outputs": [],
   "source": [
    "client.upsert([a1, b1, c1, d1, d2])"
   ]
  },
  {
   "cell_type": "code",
   "execution_count": null,
   "metadata": {},
   "outputs": [],
   "source": [
    "from ngsildclient import Client, Entity\n",
    "client = Client(port=8026)\n",
    "rooms = client.query(\"RoomObserved\")"
   ]
  },
  {
   "cell_type": "code",
   "execution_count": null,
   "metadata": {},
   "outputs": [],
   "source": [
    "from typing import List\n",
    "def rooms_to_dfdict(rooms: List[Entity]):\n",
    "    room, pressure, temp = [], [], []\n",
    "    for r in rooms:\n",
    "        room.append(r.id.rsplit(\":\")[-1])\n",
    "        pressure.append(r[\"pressure.value\"])\n",
    "        temp.append(r[\"temperature.value\"])\n",
    "    return {\"room\": room, \"pressure\": pressure, \"temperature\": temp}\n"
   ]
  },
  {
   "cell_type": "code",
   "execution_count": null,
   "metadata": {},
   "outputs": [],
   "source": [
    "import pandas as pd\n",
    "d = rooms_to_dfdict(rooms)\n",
    "df = pd.DataFrame(d)\n"
   ]
  },
  {
   "cell_type": "code",
   "execution_count": null,
   "metadata": {},
   "outputs": [],
   "source": [
    "import plotly.express as px\n",
    "fig = px.bar(df, x=\"room\", y=\"temperature\", color=\"pressure\")\n",
    "fig.show()"
   ]
  },
  {
   "cell_type": "code",
   "execution_count": null,
   "metadata": {},
   "outputs": [],
   "source": [
    "client.close()"
   ]
  },
  {
   "cell_type": "code",
   "execution_count": null,
   "metadata": {},
   "outputs": [],
   "source": [
    "!pip install nbformat"
   ]
  },
  {
   "cell_type": "code",
   "execution_count": 1,
   "metadata": {},
   "outputs": [
    {
     "name": "stdout",
     "output_type": "stream",
     "text": [
      "Connected to Context Broker at localhost:1026 | vendor=Orion-LD | version=post-v1.1.0\n",
      "cache lookup : urn:ngsi-ld:B:B1\n",
      "entity=None\n",
      "cache lookup : urn:ngsi-ld:C:C1\n",
      "entity=None\n",
      "cache lookup : urn:ngsi-ld:D:D21\n",
      "entity=None\n",
      "cache lookup : urn:ngsi-ld:A:A1\n",
      "entity=None\n",
      "cache lookup : urn:ngsi-ld:D:D29\n",
      "entity=None\n",
      "cache lookup : urn:ngsi-ld:D:D1\n",
      "entity=None\n",
      "cache lookup : urn:ngsi-ld:D:D2\n",
      "entity=None\n",
      "cache lookup : urn:ngsi-ld:D:D3\n",
      "entity=None\n",
      "cache lookup : urn:ngsi-ld:D:D4\n",
      "entity=None\n",
      "cache lookup : urn:ngsi-ld:D:D5\n",
      "entity=None\n",
      "cache lookup : urn:ngsi-ld:D:D6\n",
      "entity=None\n",
      "cache lookup : urn:ngsi-ld:D:D7\n",
      "entity=None\n",
      "cache lookup : urn:ngsi-ld:D:D8\n",
      "entity=None\n",
      "cache lookup : urn:ngsi-ld:D:D9\n",
      "entity=None\n",
      "cache lookup : urn:ngsi-ld:D:D10\n",
      "entity=None\n",
      "cache lookup : urn:ngsi-ld:D:D11\n",
      "entity=None\n",
      "cache lookup : urn:ngsi-ld:D:D12\n",
      "entity=None\n",
      "cache lookup : urn:ngsi-ld:D:D13\n",
      "entity=None\n",
      "cache lookup : urn:ngsi-ld:D:D14\n",
      "entity=None\n",
      "cache lookup : urn:ngsi-ld:D:D15\n",
      "entity=None\n",
      "cache lookup : urn:ngsi-ld:D:D16\n",
      "entity=None\n",
      "cache lookup : urn:ngsi-ld:D:D17\n",
      "entity=None\n",
      "cache lookup : urn:ngsi-ld:D:D18\n",
      "entity=None\n",
      "cache lookup : urn:ngsi-ld:D:D19\n",
      "entity=None\n",
      "cache lookup : urn:ngsi-ld:D:D20\n",
      "entity=None\n",
      "cache lookup : urn:ngsi-ld:D:D22\n",
      "entity=None\n",
      "cache lookup : urn:ngsi-ld:D:D23\n",
      "entity=None\n",
      "cache lookup : urn:ngsi-ld:D:D24\n",
      "entity=None\n",
      "cache lookup : urn:ngsi-ld:D:D25\n",
      "entity=None\n",
      "cache lookup : urn:ngsi-ld:D:D26\n",
      "entity=None\n",
      "cache lookup : urn:ngsi-ld:D:D27\n",
      "entity=None\n",
      "cache lookup : urn:ngsi-ld:D:D28\n",
      "entity=None\n"
     ]
    }
   ],
   "source": [
    "from ngsildclient import Client\n",
    "client = Client()\n",
    "root = client.get(\"A:A1\")\n",
    "G = client.network(root)"
   ]
  },
  {
   "cell_type": "code",
   "execution_count": 2,
   "metadata": {},
   "outputs": [
    {
     "name": "stdout",
     "output_type": "stream",
     "text": [
      "['A:A1', 'B:B1', 'C:C1', 'D:D21', 'D:D29', 'D:D1', 'D:D2', 'D:D3', 'D:D4', 'D:D5', 'D:D6', 'D:D7', 'D:D8', 'D:D9', 'D:D10', 'D:D11', 'D:D12', 'D:D13', 'D:D14', 'D:D15', 'D:D16', 'D:D17', 'D:D18', 'D:D19', 'D:D20', 'D:D22', 'D:D23', 'D:D24', 'D:D25', 'D:D26', 'D:D27', 'D:D28']\n",
      "[-6548140602217607059, 4130824825020375075, -4406391501953461162, -1005744928977793027, -1005744928977793027, -1005744928977793027, -1005744928977793027, -1005744928977793027, -1005744928977793027, -1005744928977793027, -1005744928977793027, -1005744928977793027, -1005744928977793027, -1005744928977793027, -1005744928977793027, -1005744928977793027, -1005744928977793027, -1005744928977793027, -1005744928977793027, -1005744928977793027, -1005744928977793027, -1005744928977793027, -1005744928977793027, -1005744928977793027, -1005744928977793027, -1005744928977793027, -1005744928977793027, -1005744928977793027, -1005744928977793027, -1005744928977793027, -1005744928977793027, -1005744928977793027]\n"
     ]
    }
   ],
   "source": [
    "import networkx as nx\n",
    "import plotly.graph_objects as go\n",
    "\n",
    "# select layout\n",
    "pos: dict = nx.spring_layout(G)\n",
    "\n",
    "# set node positions\n",
    "node_x = []\n",
    "node_y = []\n",
    "node_text = []\n",
    "node_color = []\n",
    "for node in G.nodes():\n",
    "    x, y = G.nodes[node][\"pos\"]= pos[node]\n",
    "    node_x.append(x)\n",
    "    node_y.append(y)\n",
    "    #print(node)\n",
    "    type, shortid = node\n",
    "    node_text.append(shortid)\n",
    "    node_color.append(hash(type))\n",
    "print(node_text)\n",
    "print(node_color)\n"
   ]
  },
  {
   "cell_type": "code",
   "execution_count": 3,
   "metadata": {},
   "outputs": [],
   "source": [
    "node_trace = go.Scatter(\n",
    "    x=node_x, y=node_y,\n",
    "    mode='markers',\n",
    "    hoverinfo='text',\n",
    "    marker=dict(\n",
    "        #showscale=True,\n",
    "        colorscale='YlGnBu',\n",
    "        reversescale=True,\n",
    "        color=[],\n",
    "        size=10,\n",
    "        line_width=2))\n",
    "node_trace.text = node_text\n",
    "node_trace.marker.color = node_color"
   ]
  },
  {
   "cell_type": "code",
   "execution_count": 4,
   "metadata": {},
   "outputs": [],
   "source": [
    "edge_x = []\n",
    "edge_y = []\n",
    "for edge in G.edges():\n",
    "    x0, y0 = G.nodes[edge[0]]['pos']\n",
    "    x1, y1 = G.nodes[edge[1]]['pos']\n",
    "    edge_x.append(x0)\n",
    "    edge_x.append(x1)\n",
    "    edge_x.append(None)\n",
    "    edge_y.append(y0)\n",
    "    edge_y.append(y1)\n",
    "    edge_y.append(None)\n",
    "\n",
    "edge_trace = go.Scatter(\n",
    "    x=edge_x, y=edge_y,\n",
    "    line=dict(width=0.5, color='#888'),\n",
    "    hoverinfo='none',\n",
    "    mode='lines')"
   ]
  },
  {
   "cell_type": "code",
   "execution_count": 5,
   "metadata": {},
   "outputs": [
    {
     "data": {
      "application/vnd.plotly.v1+json": {
       "config": {
        "plotlyServerURL": "https://plot.ly"
       },
       "data": [
        {
         "hoverinfo": "none",
         "line": {
          "color": "#888",
          "width": 0.5
         },
         "mode": "lines",
         "type": "scatter",
         "x": [
          -0.03073125727555748,
          0.5914817302934932,
          null,
          -0.03073125727555748,
          0.4305184016105076,
          null,
          -0.03073125727555748,
          -0.04883627415866032,
          null,
          -0.03073125727555748,
          -0.1844846703859663,
          null,
          -0.03073125727555748,
          0.27644065361090836,
          null,
          -0.03073125727555748,
          -0.31019002584436584,
          null,
          -0.03073125727555748,
          0.46474431765752133,
          null,
          -0.03073125727555748,
          -0.3612364260532541,
          null,
          -0.03073125727555748,
          0.30998196910971104,
          null,
          -0.03073125727555748,
          -0.03590445804950123,
          null,
          -0.03073125727555748,
          -0.2429902022211477,
          null,
          -0.03073125727555748,
          0.15257563841950325,
          null,
          -0.03073125727555748,
          -0.23913239458345417,
          null,
          -0.03073125727555748,
          -0.42064606002580684,
          null,
          -0.03073125727555748,
          0.15785290571890193,
          null,
          -0.03073125727555748,
          0.2941779719305955,
          null,
          -0.03073125727555748,
          0.22508494745790245,
          null,
          -0.03073125727555748,
          -0.3983335857335933,
          null,
          -0.03073125727555748,
          0.1430687736181391,
          null,
          -0.03073125727555748,
          0.4254201537435337,
          null,
          -0.03073125727555748,
          -0.3070283566918713,
          null,
          -0.03073125727555748,
          -0.45114970071156885,
          null,
          -0.03073125727555748,
          -0.5002864499951092,
          null,
          -0.03073125727555748,
          -0.20836961735470189,
          null,
          -0.03073125727555748,
          -0.5440691757496401,
          null,
          -0.03073125727555748,
          0.3390840194523207,
          null,
          -0.03073125727555748,
          -0.008219533778712986,
          null,
          -0.03073125727555748,
          0.09548048185020955,
          null,
          -0.03073125727555748,
          -0.5450722242728936,
          null,
          -0.03073125727555748,
          -0.06923155158744225,
          null,
          0.5914817302934932,
          1,
          null,
          0.5914817302934932,
          0.4305184016105076,
          null
         ],
         "y": [
          -0.0105116619207765,
          0.19642192801562655,
          null,
          -0.0105116619207765,
          0.13727195916272392,
          null,
          -0.0105116619207765,
          -0.36500384167364724,
          null,
          -0.0105116619207765,
          -0.5154317207978897,
          null,
          -0.0105116619207765,
          -0.17935337464561973,
          null,
          -0.0105116619207765,
          0.17014280253515207,
          null,
          -0.0105116619207765,
          -0.08668334602399629,
          null,
          -0.0105116619207765,
          -0.011202658536694261,
          null,
          -0.0105116619207765,
          -0.40479669108374494,
          null,
          -0.0105116619207765,
          0.32426503009536434,
          null,
          -0.0105116619207765,
          0.4829172733066693,
          null,
          -0.0105116619207765,
          0.22254190969902052,
          null,
          -0.0105116619207765,
          0.331212380617301,
          null,
          -0.0105116619207765,
          0.3508476227818888,
          null,
          -0.0105116619207765,
          -0.4974605893873071,
          null,
          -0.0105116619207765,
          0.022325363454870205,
          null,
          -0.0105116619207765,
          0.4131550738084028,
          null,
          -0.0105116619207765,
          -0.1979760102321106,
          null,
          -0.0105116619207765,
          -0.31578382682877226,
          null,
          -0.0105116619207765,
          -0.2672234762007727,
          null,
          -0.0105116619207765,
          -0.42061417910225973,
          null,
          -0.0105116619207765,
          -0.34535402040576607,
          null,
          -0.0105116619207765,
          0.19937348419348136,
          null,
          -0.0105116619207765,
          -0.24690047205975746,
          null,
          -0.0105116619207765,
          0.04061831659803474,
          null,
          -0.0105116619207765,
          0.30292011390577644,
          null,
          -0.0105116619207765,
          -0.5317830220974611,
          null,
          -0.0105116619207765,
          0.49144895300170094,
          null,
          -0.0105116619207765,
          -0.13272703179006642,
          null,
          -0.0105116619207765,
          0.5087523814492126,
          null,
          0.19642192801562655,
          0.33459133016141696,
          null,
          0.19642192801562655,
          0.13727195916272392,
          null
         ]
        },
        {
         "hoverinfo": "text",
         "marker": {
          "color": [
           -6548140602217607000,
           4130824825020375000,
           -4406391501953461000,
           -1005744928977793000,
           -1005744928977793000,
           -1005744928977793000,
           -1005744928977793000,
           -1005744928977793000,
           -1005744928977793000,
           -1005744928977793000,
           -1005744928977793000,
           -1005744928977793000,
           -1005744928977793000,
           -1005744928977793000,
           -1005744928977793000,
           -1005744928977793000,
           -1005744928977793000,
           -1005744928977793000,
           -1005744928977793000,
           -1005744928977793000,
           -1005744928977793000,
           -1005744928977793000,
           -1005744928977793000,
           -1005744928977793000,
           -1005744928977793000,
           -1005744928977793000,
           -1005744928977793000,
           -1005744928977793000,
           -1005744928977793000,
           -1005744928977793000,
           -1005744928977793000,
           -1005744928977793000
          ],
          "colorscale": [
           [
            0,
            "rgb(255,255,217)"
           ],
           [
            0.125,
            "rgb(237,248,177)"
           ],
           [
            0.25,
            "rgb(199,233,180)"
           ],
           [
            0.375,
            "rgb(127,205,187)"
           ],
           [
            0.5,
            "rgb(65,182,196)"
           ],
           [
            0.625,
            "rgb(29,145,192)"
           ],
           [
            0.75,
            "rgb(34,94,168)"
           ],
           [
            0.875,
            "rgb(37,52,148)"
           ],
           [
            1,
            "rgb(8,29,88)"
           ]
          ],
          "line": {
           "width": 2
          },
          "reversescale": true,
          "size": 10
         },
         "mode": "markers",
         "text": [
          "A:A1",
          "B:B1",
          "C:C1",
          "D:D21",
          "D:D29",
          "D:D1",
          "D:D2",
          "D:D3",
          "D:D4",
          "D:D5",
          "D:D6",
          "D:D7",
          "D:D8",
          "D:D9",
          "D:D10",
          "D:D11",
          "D:D12",
          "D:D13",
          "D:D14",
          "D:D15",
          "D:D16",
          "D:D17",
          "D:D18",
          "D:D19",
          "D:D20",
          "D:D22",
          "D:D23",
          "D:D24",
          "D:D25",
          "D:D26",
          "D:D27",
          "D:D28"
         ],
         "type": "scatter",
         "x": [
          -0.03073125727555748,
          0.5914817302934932,
          1,
          0.4305184016105076,
          -0.04883627415866032,
          -0.1844846703859663,
          0.27644065361090836,
          -0.31019002584436584,
          0.46474431765752133,
          -0.3612364260532541,
          0.30998196910971104,
          -0.03590445804950123,
          -0.2429902022211477,
          0.15257563841950325,
          -0.23913239458345417,
          -0.42064606002580684,
          0.15785290571890193,
          0.2941779719305955,
          0.22508494745790245,
          -0.3983335857335933,
          0.1430687736181391,
          0.4254201537435337,
          -0.3070283566918713,
          -0.45114970071156885,
          -0.5002864499951092,
          -0.20836961735470189,
          -0.5440691757496401,
          0.3390840194523207,
          -0.008219533778712986,
          0.09548048185020955,
          -0.5450722242728936,
          -0.06923155158744225
         ],
         "y": [
          -0.0105116619207765,
          0.19642192801562655,
          0.33459133016141696,
          0.13727195916272392,
          -0.36500384167364724,
          -0.5154317207978897,
          -0.17935337464561973,
          0.17014280253515207,
          -0.08668334602399629,
          -0.011202658536694261,
          -0.40479669108374494,
          0.32426503009536434,
          0.4829172733066693,
          0.22254190969902052,
          0.331212380617301,
          0.3508476227818888,
          -0.4974605893873071,
          0.022325363454870205,
          0.4131550738084028,
          -0.1979760102321106,
          -0.31578382682877226,
          -0.2672234762007727,
          -0.42061417910225973,
          -0.34535402040576607,
          0.19937348419348136,
          -0.24690047205975746,
          0.04061831659803474,
          0.30292011390577644,
          -0.5317830220974611,
          0.49144895300170094,
          -0.13272703179006642,
          0.5087523814492126
         ]
        }
       ],
       "layout": {
        "annotations": [
         {
          "showarrow": false,
          "text": "Entities network graph",
          "x": 0.005,
          "xref": "paper",
          "y": -0.002,
          "yref": "paper"
         }
        ],
        "hovermode": "closest",
        "margin": {
         "b": 20,
         "l": 5,
         "r": 5,
         "t": 40
        },
        "showlegend": false,
        "template": {
         "data": {
          "bar": [
           {
            "error_x": {
             "color": "#2a3f5f"
            },
            "error_y": {
             "color": "#2a3f5f"
            },
            "marker": {
             "line": {
              "color": "#E5ECF6",
              "width": 0.5
             },
             "pattern": {
              "fillmode": "overlay",
              "size": 10,
              "solidity": 0.2
             }
            },
            "type": "bar"
           }
          ],
          "barpolar": [
           {
            "marker": {
             "line": {
              "color": "#E5ECF6",
              "width": 0.5
             },
             "pattern": {
              "fillmode": "overlay",
              "size": 10,
              "solidity": 0.2
             }
            },
            "type": "barpolar"
           }
          ],
          "carpet": [
           {
            "aaxis": {
             "endlinecolor": "#2a3f5f",
             "gridcolor": "white",
             "linecolor": "white",
             "minorgridcolor": "white",
             "startlinecolor": "#2a3f5f"
            },
            "baxis": {
             "endlinecolor": "#2a3f5f",
             "gridcolor": "white",
             "linecolor": "white",
             "minorgridcolor": "white",
             "startlinecolor": "#2a3f5f"
            },
            "type": "carpet"
           }
          ],
          "choropleth": [
           {
            "colorbar": {
             "outlinewidth": 0,
             "ticks": ""
            },
            "type": "choropleth"
           }
          ],
          "contour": [
           {
            "colorbar": {
             "outlinewidth": 0,
             "ticks": ""
            },
            "colorscale": [
             [
              0,
              "#0d0887"
             ],
             [
              0.1111111111111111,
              "#46039f"
             ],
             [
              0.2222222222222222,
              "#7201a8"
             ],
             [
              0.3333333333333333,
              "#9c179e"
             ],
             [
              0.4444444444444444,
              "#bd3786"
             ],
             [
              0.5555555555555556,
              "#d8576b"
             ],
             [
              0.6666666666666666,
              "#ed7953"
             ],
             [
              0.7777777777777778,
              "#fb9f3a"
             ],
             [
              0.8888888888888888,
              "#fdca26"
             ],
             [
              1,
              "#f0f921"
             ]
            ],
            "type": "contour"
           }
          ],
          "contourcarpet": [
           {
            "colorbar": {
             "outlinewidth": 0,
             "ticks": ""
            },
            "type": "contourcarpet"
           }
          ],
          "heatmap": [
           {
            "colorbar": {
             "outlinewidth": 0,
             "ticks": ""
            },
            "colorscale": [
             [
              0,
              "#0d0887"
             ],
             [
              0.1111111111111111,
              "#46039f"
             ],
             [
              0.2222222222222222,
              "#7201a8"
             ],
             [
              0.3333333333333333,
              "#9c179e"
             ],
             [
              0.4444444444444444,
              "#bd3786"
             ],
             [
              0.5555555555555556,
              "#d8576b"
             ],
             [
              0.6666666666666666,
              "#ed7953"
             ],
             [
              0.7777777777777778,
              "#fb9f3a"
             ],
             [
              0.8888888888888888,
              "#fdca26"
             ],
             [
              1,
              "#f0f921"
             ]
            ],
            "type": "heatmap"
           }
          ],
          "heatmapgl": [
           {
            "colorbar": {
             "outlinewidth": 0,
             "ticks": ""
            },
            "colorscale": [
             [
              0,
              "#0d0887"
             ],
             [
              0.1111111111111111,
              "#46039f"
             ],
             [
              0.2222222222222222,
              "#7201a8"
             ],
             [
              0.3333333333333333,
              "#9c179e"
             ],
             [
              0.4444444444444444,
              "#bd3786"
             ],
             [
              0.5555555555555556,
              "#d8576b"
             ],
             [
              0.6666666666666666,
              "#ed7953"
             ],
             [
              0.7777777777777778,
              "#fb9f3a"
             ],
             [
              0.8888888888888888,
              "#fdca26"
             ],
             [
              1,
              "#f0f921"
             ]
            ],
            "type": "heatmapgl"
           }
          ],
          "histogram": [
           {
            "marker": {
             "pattern": {
              "fillmode": "overlay",
              "size": 10,
              "solidity": 0.2
             }
            },
            "type": "histogram"
           }
          ],
          "histogram2d": [
           {
            "colorbar": {
             "outlinewidth": 0,
             "ticks": ""
            },
            "colorscale": [
             [
              0,
              "#0d0887"
             ],
             [
              0.1111111111111111,
              "#46039f"
             ],
             [
              0.2222222222222222,
              "#7201a8"
             ],
             [
              0.3333333333333333,
              "#9c179e"
             ],
             [
              0.4444444444444444,
              "#bd3786"
             ],
             [
              0.5555555555555556,
              "#d8576b"
             ],
             [
              0.6666666666666666,
              "#ed7953"
             ],
             [
              0.7777777777777778,
              "#fb9f3a"
             ],
             [
              0.8888888888888888,
              "#fdca26"
             ],
             [
              1,
              "#f0f921"
             ]
            ],
            "type": "histogram2d"
           }
          ],
          "histogram2dcontour": [
           {
            "colorbar": {
             "outlinewidth": 0,
             "ticks": ""
            },
            "colorscale": [
             [
              0,
              "#0d0887"
             ],
             [
              0.1111111111111111,
              "#46039f"
             ],
             [
              0.2222222222222222,
              "#7201a8"
             ],
             [
              0.3333333333333333,
              "#9c179e"
             ],
             [
              0.4444444444444444,
              "#bd3786"
             ],
             [
              0.5555555555555556,
              "#d8576b"
             ],
             [
              0.6666666666666666,
              "#ed7953"
             ],
             [
              0.7777777777777778,
              "#fb9f3a"
             ],
             [
              0.8888888888888888,
              "#fdca26"
             ],
             [
              1,
              "#f0f921"
             ]
            ],
            "type": "histogram2dcontour"
           }
          ],
          "mesh3d": [
           {
            "colorbar": {
             "outlinewidth": 0,
             "ticks": ""
            },
            "type": "mesh3d"
           }
          ],
          "parcoords": [
           {
            "line": {
             "colorbar": {
              "outlinewidth": 0,
              "ticks": ""
             }
            },
            "type": "parcoords"
           }
          ],
          "pie": [
           {
            "automargin": true,
            "type": "pie"
           }
          ],
          "scatter": [
           {
            "fillpattern": {
             "fillmode": "overlay",
             "size": 10,
             "solidity": 0.2
            },
            "type": "scatter"
           }
          ],
          "scatter3d": [
           {
            "line": {
             "colorbar": {
              "outlinewidth": 0,
              "ticks": ""
             }
            },
            "marker": {
             "colorbar": {
              "outlinewidth": 0,
              "ticks": ""
             }
            },
            "type": "scatter3d"
           }
          ],
          "scattercarpet": [
           {
            "marker": {
             "colorbar": {
              "outlinewidth": 0,
              "ticks": ""
             }
            },
            "type": "scattercarpet"
           }
          ],
          "scattergeo": [
           {
            "marker": {
             "colorbar": {
              "outlinewidth": 0,
              "ticks": ""
             }
            },
            "type": "scattergeo"
           }
          ],
          "scattergl": [
           {
            "marker": {
             "colorbar": {
              "outlinewidth": 0,
              "ticks": ""
             }
            },
            "type": "scattergl"
           }
          ],
          "scattermapbox": [
           {
            "marker": {
             "colorbar": {
              "outlinewidth": 0,
              "ticks": ""
             }
            },
            "type": "scattermapbox"
           }
          ],
          "scatterpolar": [
           {
            "marker": {
             "colorbar": {
              "outlinewidth": 0,
              "ticks": ""
             }
            },
            "type": "scatterpolar"
           }
          ],
          "scatterpolargl": [
           {
            "marker": {
             "colorbar": {
              "outlinewidth": 0,
              "ticks": ""
             }
            },
            "type": "scatterpolargl"
           }
          ],
          "scatterternary": [
           {
            "marker": {
             "colorbar": {
              "outlinewidth": 0,
              "ticks": ""
             }
            },
            "type": "scatterternary"
           }
          ],
          "surface": [
           {
            "colorbar": {
             "outlinewidth": 0,
             "ticks": ""
            },
            "colorscale": [
             [
              0,
              "#0d0887"
             ],
             [
              0.1111111111111111,
              "#46039f"
             ],
             [
              0.2222222222222222,
              "#7201a8"
             ],
             [
              0.3333333333333333,
              "#9c179e"
             ],
             [
              0.4444444444444444,
              "#bd3786"
             ],
             [
              0.5555555555555556,
              "#d8576b"
             ],
             [
              0.6666666666666666,
              "#ed7953"
             ],
             [
              0.7777777777777778,
              "#fb9f3a"
             ],
             [
              0.8888888888888888,
              "#fdca26"
             ],
             [
              1,
              "#f0f921"
             ]
            ],
            "type": "surface"
           }
          ],
          "table": [
           {
            "cells": {
             "fill": {
              "color": "#EBF0F8"
             },
             "line": {
              "color": "white"
             }
            },
            "header": {
             "fill": {
              "color": "#C8D4E3"
             },
             "line": {
              "color": "white"
             }
            },
            "type": "table"
           }
          ]
         },
         "layout": {
          "annotationdefaults": {
           "arrowcolor": "#2a3f5f",
           "arrowhead": 0,
           "arrowwidth": 1
          },
          "autotypenumbers": "strict",
          "coloraxis": {
           "colorbar": {
            "outlinewidth": 0,
            "ticks": ""
           }
          },
          "colorscale": {
           "diverging": [
            [
             0,
             "#8e0152"
            ],
            [
             0.1,
             "#c51b7d"
            ],
            [
             0.2,
             "#de77ae"
            ],
            [
             0.3,
             "#f1b6da"
            ],
            [
             0.4,
             "#fde0ef"
            ],
            [
             0.5,
             "#f7f7f7"
            ],
            [
             0.6,
             "#e6f5d0"
            ],
            [
             0.7,
             "#b8e186"
            ],
            [
             0.8,
             "#7fbc41"
            ],
            [
             0.9,
             "#4d9221"
            ],
            [
             1,
             "#276419"
            ]
           ],
           "sequential": [
            [
             0,
             "#0d0887"
            ],
            [
             0.1111111111111111,
             "#46039f"
            ],
            [
             0.2222222222222222,
             "#7201a8"
            ],
            [
             0.3333333333333333,
             "#9c179e"
            ],
            [
             0.4444444444444444,
             "#bd3786"
            ],
            [
             0.5555555555555556,
             "#d8576b"
            ],
            [
             0.6666666666666666,
             "#ed7953"
            ],
            [
             0.7777777777777778,
             "#fb9f3a"
            ],
            [
             0.8888888888888888,
             "#fdca26"
            ],
            [
             1,
             "#f0f921"
            ]
           ],
           "sequentialminus": [
            [
             0,
             "#0d0887"
            ],
            [
             0.1111111111111111,
             "#46039f"
            ],
            [
             0.2222222222222222,
             "#7201a8"
            ],
            [
             0.3333333333333333,
             "#9c179e"
            ],
            [
             0.4444444444444444,
             "#bd3786"
            ],
            [
             0.5555555555555556,
             "#d8576b"
            ],
            [
             0.6666666666666666,
             "#ed7953"
            ],
            [
             0.7777777777777778,
             "#fb9f3a"
            ],
            [
             0.8888888888888888,
             "#fdca26"
            ],
            [
             1,
             "#f0f921"
            ]
           ]
          },
          "colorway": [
           "#636efa",
           "#EF553B",
           "#00cc96",
           "#ab63fa",
           "#FFA15A",
           "#19d3f3",
           "#FF6692",
           "#B6E880",
           "#FF97FF",
           "#FECB52"
          ],
          "font": {
           "color": "#2a3f5f"
          },
          "geo": {
           "bgcolor": "white",
           "lakecolor": "white",
           "landcolor": "#E5ECF6",
           "showlakes": true,
           "showland": true,
           "subunitcolor": "white"
          },
          "hoverlabel": {
           "align": "left"
          },
          "hovermode": "closest",
          "mapbox": {
           "style": "light"
          },
          "paper_bgcolor": "white",
          "plot_bgcolor": "#E5ECF6",
          "polar": {
           "angularaxis": {
            "gridcolor": "white",
            "linecolor": "white",
            "ticks": ""
           },
           "bgcolor": "#E5ECF6",
           "radialaxis": {
            "gridcolor": "white",
            "linecolor": "white",
            "ticks": ""
           }
          },
          "scene": {
           "xaxis": {
            "backgroundcolor": "#E5ECF6",
            "gridcolor": "white",
            "gridwidth": 2,
            "linecolor": "white",
            "showbackground": true,
            "ticks": "",
            "zerolinecolor": "white"
           },
           "yaxis": {
            "backgroundcolor": "#E5ECF6",
            "gridcolor": "white",
            "gridwidth": 2,
            "linecolor": "white",
            "showbackground": true,
            "ticks": "",
            "zerolinecolor": "white"
           },
           "zaxis": {
            "backgroundcolor": "#E5ECF6",
            "gridcolor": "white",
            "gridwidth": 2,
            "linecolor": "white",
            "showbackground": true,
            "ticks": "",
            "zerolinecolor": "white"
           }
          },
          "shapedefaults": {
           "line": {
            "color": "#2a3f5f"
           }
          },
          "ternary": {
           "aaxis": {
            "gridcolor": "white",
            "linecolor": "white",
            "ticks": ""
           },
           "baxis": {
            "gridcolor": "white",
            "linecolor": "white",
            "ticks": ""
           },
           "bgcolor": "#E5ECF6",
           "caxis": {
            "gridcolor": "white",
            "linecolor": "white",
            "ticks": ""
           }
          },
          "title": {
           "x": 0.05
          },
          "xaxis": {
           "automargin": true,
           "gridcolor": "white",
           "linecolor": "white",
           "ticks": "",
           "title": {
            "standoff": 15
           },
           "zerolinecolor": "white",
           "zerolinewidth": 2
          },
          "yaxis": {
           "automargin": true,
           "gridcolor": "white",
           "linecolor": "white",
           "ticks": "",
           "title": {
            "standoff": 15
           },
           "zerolinecolor": "white",
           "zerolinewidth": 2
          }
         }
        },
        "title": {
         "font": {
          "size": 16
         }
        },
        "xaxis": {
         "showgrid": false,
         "showticklabels": false,
         "zeroline": false
        },
        "yaxis": {
         "showgrid": false,
         "showticklabels": false,
         "zeroline": false
        }
       }
      }
     },
     "metadata": {},
     "output_type": "display_data"
    }
   ],
   "source": [
    "fig = go.Figure(data=[edge_trace, node_trace],\n",
    "             layout=go.Layout(\n",
    "                titlefont_size=16,\n",
    "                showlegend=False,\n",
    "                hovermode='closest',\n",
    "                margin=dict(b=20,l=5,r=5,t=40),\n",
    "                annotations=[ dict(\n",
    "                    text=\"Entities network graph\",\n",
    "                    showarrow=False,\n",
    "                    xref=\"paper\", yref=\"paper\",\n",
    "                    x=0.005, y=-0.002 ) ],\n",
    "                xaxis=dict(showgrid=False, zeroline=False, showticklabels=False),\n",
    "                yaxis=dict(showgrid=False, zeroline=False, showticklabels=False))\n",
    "                )\n",
    "fig.show()"
   ]
  }
 ],
 "metadata": {
  "kernelspec": {
   "display_name": "Python 3.9.7 ('.venv': poetry)",
   "language": "python",
   "name": "python3"
  },
  "language_info": {
   "codemirror_mode": {
    "name": "ipython",
    "version": 3
   },
   "file_extension": ".py",
   "mimetype": "text/x-python",
   "name": "python",
   "nbconvert_exporter": "python",
   "pygments_lexer": "ipython3",
   "version": "3.9.7"
  },
  "orig_nbformat": 4,
  "vscode": {
   "interpreter": {
    "hash": "0ee846a4549db93fcb55e7ceeb0fe455cbdc6b97d0cf52c2432d2b3092c74f2d"
   }
  }
 },
 "nbformat": 4,
 "nbformat_minor": 2
}
